{
 "cells": [
  {
   "cell_type": "code",
   "execution_count": 1,
   "metadata": {},
   "outputs": [],
   "source": [
    "import pandas as pd\n",
    "from connection import dbsession\n",
    "from models import Products\n",
    "products=pd.read_csv(\"products.csv\")"
   ]
  },
  {
   "cell_type": "code",
   "execution_count": 2,
   "metadata": {},
   "outputs": [
    {
     "data": {
      "text/html": [
       "<div>\n",
       "<style scoped>\n",
       "    .dataframe tbody tr th:only-of-type {\n",
       "        vertical-align: middle;\n",
       "    }\n",
       "\n",
       "    .dataframe tbody tr th {\n",
       "        vertical-align: top;\n",
       "    }\n",
       "\n",
       "    .dataframe thead th {\n",
       "        text-align: right;\n",
       "    }\n",
       "</style>\n",
       "<table border=\"1\" class=\"dataframe\">\n",
       "  <thead>\n",
       "    <tr style=\"text-align: right;\">\n",
       "      <th></th>\n",
       "      <th>name</th>\n",
       "      <th>price</th>\n",
       "      <th>Unnamed: 2</th>\n",
       "    </tr>\n",
       "  </thead>\n",
       "  <tbody>\n",
       "    <tr>\n",
       "      <th>0</th>\n",
       "      <td>مونوپاد1288</td>\n",
       "      <td>900,000</td>\n",
       "      <td>NaN</td>\n",
       "    </tr>\n",
       "    <tr>\n",
       "      <th>1</th>\n",
       "      <td>شارژر فندكيiohone</td>\n",
       "      <td>500,000</td>\n",
       "      <td>NaN</td>\n",
       "    </tr>\n",
       "    <tr>\n",
       "      <th>2</th>\n",
       "      <td>شارژر فندكي ldnio</td>\n",
       "      <td>650,000</td>\n",
       "      <td>NaN</td>\n",
       "    </tr>\n",
       "    <tr>\n",
       "      <th>3</th>\n",
       "      <td>فندكي آيفون 3</td>\n",
       "      <td>600,000</td>\n",
       "      <td>NaN</td>\n",
       "    </tr>\n",
       "    <tr>\n",
       "      <th>4</th>\n",
       "      <td>گارد</td>\n",
       "      <td>54,000,000</td>\n",
       "      <td>NaN</td>\n",
       "    </tr>\n",
       "    <tr>\n",
       "      <th>...</th>\n",
       "      <td>...</td>\n",
       "      <td>...</td>\n",
       "      <td>...</td>\n",
       "    </tr>\n",
       "    <tr>\n",
       "      <th>177</th>\n",
       "      <td>گوشي آيفون Iphone 11 128G مشكي</td>\n",
       "      <td>226,333,333</td>\n",
       "      <td>NaN</td>\n",
       "    </tr>\n",
       "    <tr>\n",
       "      <th>178</th>\n",
       "      <td>گوشي شيائومي Xiaomi Mi 11lite/128G/R8</td>\n",
       "      <td>72,900,000</td>\n",
       "      <td>NaN</td>\n",
       "    </tr>\n",
       "    <tr>\n",
       "      <th>179</th>\n",
       "      <td>گوشي شيائومي Xiaomi X3 PRO/128G/R8برنز</td>\n",
       "      <td>68,900,000</td>\n",
       "      <td>NaN</td>\n",
       "    </tr>\n",
       "    <tr>\n",
       "      <th>180</th>\n",
       "      <td>گوشي سامسونگ A53/256G/R8مشكي</td>\n",
       "      <td>235,800,000</td>\n",
       "      <td>NaN</td>\n",
       "    </tr>\n",
       "    <tr>\n",
       "      <th>181</th>\n",
       "      <td>NaN</td>\n",
       "      <td>6,219,259,293</td>\n",
       "      <td>NaN</td>\n",
       "    </tr>\n",
       "  </tbody>\n",
       "</table>\n",
       "<p>182 rows × 3 columns</p>\n",
       "</div>"
      ],
      "text/plain": [
       "                                       name          price  Unnamed: 2\n",
       "0                               مونوپاد1288        900,000         NaN\n",
       "1                         شارژر فندكيiohone        500,000         NaN\n",
       "2                         شارژر فندكي ldnio        650,000         NaN\n",
       "3                             فندكي آيفون 3        600,000         NaN\n",
       "4                                      گارد     54,000,000         NaN\n",
       "..                                      ...            ...         ...\n",
       "177          گوشي آيفون Iphone 11 128G مشكي    226,333,333         NaN\n",
       "178   گوشي شيائومي Xiaomi Mi 11lite/128G/R8     72,900,000         NaN\n",
       "179  گوشي شيائومي Xiaomi X3 PRO/128G/R8برنز     68,900,000         NaN\n",
       "180            گوشي سامسونگ A53/256G/R8مشكي    235,800,000         NaN\n",
       "181                                     NaN  6,219,259,293         NaN\n",
       "\n",
       "[182 rows x 3 columns]"
      ]
     },
     "execution_count": 2,
     "metadata": {},
     "output_type": "execute_result"
    }
   ],
   "source": [
    "products"
   ]
  },
  {
   "cell_type": "code",
   "execution_count": 3,
   "metadata": {},
   "outputs": [],
   "source": [
    "dbsession.bulk_insert_mappings(Products, products.to_dict(orient=\"records\"))\n",
    "dbsession.commit()"
   ]
  }
 ],
 "metadata": {
  "interpreter": {
   "hash": "9c4b7b5e11b390a0593606cff19cdf6a9165f466651beab1f538f13053a44d71"
  },
  "kernelspec": {
   "display_name": "Python 3.10.4 ('venv': venv)",
   "language": "python",
   "name": "python3"
  },
  "language_info": {
   "codemirror_mode": {
    "name": "ipython",
    "version": 3
   },
   "file_extension": ".py",
   "mimetype": "text/x-python",
   "name": "python",
   "nbconvert_exporter": "python",
   "pygments_lexer": "ipython3",
   "version": "3.10.4"
  },
  "orig_nbformat": 4
 },
 "nbformat": 4,
 "nbformat_minor": 2
}
