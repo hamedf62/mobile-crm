{
 "cells": [
  {
   "cell_type": "code",
   "execution_count": 35,
   "metadata": {},
   "outputs": [],
   "source": [
    "import pandas as pd\n",
    "import numpy as np\n",
    "from connection import dbsession\n",
    "from models import Products, Categories\n",
    "products=pd.read_csv(\"products.csv\")\n",
    "# dtype={\"price\": np.float64}"
   ]
  },
  {
   "cell_type": "code",
   "execution_count": 36,
   "metadata": {},
   "outputs": [
    {
     "data": {
      "text/plain": [
       "900000.0"
      ]
     },
     "execution_count": 36,
     "metadata": {},
     "output_type": "execute_result"
    }
   ],
   "source": [
    "float(products[\"price\"][0].replace(\",\",\"\"))"
   ]
  },
  {
   "cell_type": "code",
   "execution_count": 37,
   "metadata": {},
   "outputs": [
    {
     "data": {
      "text/plain": [
       "182"
      ]
     },
     "execution_count": 37,
     "metadata": {},
     "output_type": "execute_result"
    }
   ],
   "source": [
    "len(products)"
   ]
  },
  {
   "cell_type": "code",
   "execution_count": 38,
   "metadata": {},
   "outputs": [
    {
     "name": "stdout",
     "output_type": "stream",
     "text": [
      "0 مونوپاد1288 900,000\n",
      "1 شارژر فندكيiohone 500,000\n",
      "2 شارژر فندكي ldnio 650,000\n",
      "3 فندكي آيفون 3 600,000\n",
      "4 گارد 54,000,000\n",
      "5 رابط گوشي به گوشي 100,000\n",
      "6 شارژر كارتني S4 650,000\n",
      "7 گارد سيليكوني 55,900,000\n",
      "8 كابل پاور sisah 120,000\n",
      "9 گلس سراميكي 177,600,000\n",
      "10 سيم كارت 35,200,000\n",
      "11 charger emy myشارژر 350,000\n",
      "12 FM PLAYER2 840,000\n",
      "13 تبديل otg-note 240,000\n",
      "14 كابل 5پين usb 1,620,000\n",
      "15 گلس تبلت 53,200,000\n",
      "16 كيف تبلت 22,750,000\n",
      "17 كيف زيپ دار 100,000\n",
      "18 تبديل اندرويد آيفون 480,000\n",
      "19 ريموت منوپاد 120,000\n",
      "20 رم ريدر دو كاره 600,000\n",
      "21 كابل hdmitc70 500,000\n",
      "22 كله شارژر اصلي ipad 400,000\n",
      "23 rock c 350,000\n",
      "24 گارد my case 1,200,000\n",
      "25 گارد سيليكوني ايفون 32,000,000\n",
      "26 محافظ لنز 7 900,000\n",
      "27 محافظ لنز 6 180,000\n",
      "28 usb led 250,000\n",
      "29 كاور سيليكوني 400,000\n",
      "30 استاپ شارژ 240,000\n",
      "31 mp3_mp4 4G player 800,000\n",
      "32 نگهدارنده كابل 360,000\n",
      "33 گلس فول 156,000,000\n",
      "34 هندزفري بلوتوث جبرا mini u8 2,400,000\n",
      "35 تبديل برق آيفون 3,000,000\n",
      "36 هندزفري  LEVEL U PRO 8,400,000\n",
      "37 كله شارژر اصلي S10پكدار 3,200,000\n",
      "38 شارژر S9 ORG يكسال گارانتي 800,000\n",
      "39 تبديل سه به دو seven 2,100,000\n",
      "40 كابل S10 FAST 1,200,000\n",
      "41 كابل  +NOTE10 1,200,000\n",
      "42 اعتبار 2,640,609,960\n",
      "43 پاوربانك HOCO J49/10000 6,400,000\n",
      "44 كله شارژر پكدار IPH 7 1,200,000\n",
      "45 كابل پاوربانك TYPE C 1,080,000\n",
      "46 هلدر وايرلس S5 1,200,000\n",
      "47 تبديل TYPE C الدرام 250,000\n",
      "48 رم 64 APACER 3,600,000\n",
      "49 تبلت LENOVO TAB M7-4G-Ram2-32G مشكي 52,000,000\n",
      "50 ايرپاد PRO 4 7,000,000\n",
      "51 گارد پشت مات فرم دار 39,500,000\n",
      "52 كابل HOCO X37 MICRO 600,000\n",
      "53 رينگلايت سلفي 800,000\n",
      "54 هندزفري IPH 7piblue 3,300,000\n",
      "55 كله شارژر DUDAO A8UK IPH 2,200,000\n",
      "56 كابل HOCO X1 3 MICRO 2,400,000\n",
      "57 كله شارژر آيفون 11 4,200,000\n",
      "58 m6 64G 1,600,000\n",
      "59 هدفون بلوتوث 450BT JBL 1,800,000\n",
      "60 تبديل برق 2به 2 1,190,000\n",
      "61 پاور بانك 1000 maxko 8,400,000\n",
      "62 كاور سيليكوني ايرپاد پرو 1,800,000\n",
      "63 بند فلزي apple watch milanese 2,400,000\n",
      "64 بند چرم apple watch 2,500,000\n",
      "65 كله سركارتني s10 2,800,000\n",
      "66 سركارتني otg s10 700,000\n",
      "67 محافظ كابل 4in 1 750,000\n",
      "68 محافظ كابل عروسكي 720,000\n",
      "69 كابل پاور فلت TYPE C 2,200,000\n",
      "70 گلس امنيتي 22,400,000\n",
      "71 تبديل سيم كارت پلاستيكي 150,000\n",
      "72 گوشي سامسونگ A32 128G 65,800,000\n",
      "73 گلس لنز دوربين اندرويدي 3,000,000\n",
      "74 كابل aux فنري 800,000\n",
      "75 گارد بتمني 900,000\n",
      "76 كابل s7 4,400,000\n",
      "77 كابل maxko 060 metal 2,100,000\n",
      "78 كابل nafumi m9 -tpc 4,500,000\n",
      "79 گارد شفاف لنزدار IP13 2,250,000\n",
      "80 گوشي ايفون ابي با گارانتي IPHONE 13 PRO MAX 256G 432,000,000\n",
      "81 گلس سوپر فول توري دار 13promax 800,000\n",
      "82 گوشي ايفون 13Promax 256g مشكي 479,000,000\n",
      "83 پاپ سوكت انگشتي مگنتي 3,000,000\n",
      "84 كابل آيفون ALIARMI 3,200,000\n",
      "85 كابل آيفون BOROF BX 19 1,500,000\n",
      "86 هولدر مگنتي سكه اي 3,200,000\n",
      "87 كابل پك دار IPH 12 9,200,000\n",
      "88 گاردو گلس اپل واچ 2,700,000\n",
      "89 بند سيليكوني اپل واچ 4,800,000\n",
      "90 بند نايك اپل واچ 1,100,000\n",
      "91 اسپيكر چمداني 1149A 10,500,000\n",
      "92 سه پايه چيني 1,800,000\n",
      "93 سه پايه گوشي فلزي 2,500,000\n",
      "94 گارد شفاف آيفون دور رنگي 16,200,000\n",
      "95 گارد DEZOE 12,800,000\n",
      "96 اسپيكر L26 8,400,000\n",
      "97 شارژر فندكي Remix 1,800,000\n",
      "98 كابل Hoco x29 800,000\n",
      "99 كابل پوست ماري micro 1,600,000\n",
      "100 كله شارژر DUDAO-A2 3,200,000\n",
      "101 كله شارژر DUDAO-A1 MAX 2,400,000\n",
      "102 كابل DUDAO L10 TYPEC پاوربانكي 600,000\n",
      "103 كابل DUDAO L10 IPH پاوربانكي 1,200,000\n",
      "104 كابل DUDAO L10 Micro پاوربانكي 800,000\n",
      "105 هنذزفري j5 250,000\n",
      "106 كيف بتمني ايرپاد 7,800,000\n",
      "107 شارژر پكدار S10 1,400,000\n",
      "108 هندزفري PAPADA PA1 31 2,200,000\n",
      "109 هندزفري PAPADA PA1 30 TYOE C 1,100,000\n",
      "110 هندزفري بلوتوث B669 4,200,000\n",
      "111 كابل REALME TYPE C 2,400,000\n",
      "112 هلدر CXP 008 1,710,000\n",
      "113 هندزفري بلوتوث گردني LENOVO-HE05 2,850,000\n",
      "114 هلدر DUDAO F3 800,000\n",
      "115 فلش S20 64G KING 1,800,000\n",
      "116 فلش KS234 32G king 1,400,000\n",
      "117 فلش KS234 16G king 1,200,000\n",
      "118 فلش KS201 32G AROMA 2,800,000\n",
      "119 فلش KS201 16G AROMA 1,200,000\n",
      "120 مموري 16G Toshiba 2,240,000\n",
      "121 OTG REMAX-Micro فلزي 1,760,000\n",
      "122 OTG TYPE C REMAX فلزي 1,520,000\n",
      "123 گلس لنز دوربين ايفون 600,000\n",
      "124 محافظ لنز آهني 3,916,000\n",
      "125 گلس اپل واچ 42m 260,000\n",
      "126 گلس اپل واچ 38m 260,000\n",
      "127 پاپ سوكت انگشتي 300,000\n",
      "128 هندزفري akg سامسونگ 6,400,000\n",
      "129 محافظ لنز رينگي ايفون 16,200,000\n",
      "130 كابل lapramol lp-b13 آيفون 10,500,000\n",
      "131 كابل lapramol lp-b19 آبفون 7,500,000\n",
      "132 كيس كربني ايرپاد 3 1,800,000\n",
      "133 كابل lapramol lp-b50 اندرويد 3,000,000\n",
      "134 پاوربانك HOCO J38/10000 3,500,000\n",
      "135 پاوربانك HOCO J58/10000 3,500,000\n",
      "136 پاور بانك dudao 10000 7,000,000\n",
      "137 تبديل هالدرون 3به 2 1,200,000\n",
      "138 گلس نانو اپل واچ 41m 1,200,000\n",
      "139 هندزفري بلوتوث گردني UFLEX 2,850,000\n",
      "140 اسپيكر A1 12,500,000\n",
      "141 پاوربانك BOROFONE BT23 10000 3,500,000\n",
      "142 رينگ لايت LED 2,550,000\n",
      "143 كيبرد اي پد 1,200,000\n",
      "144 رينگ لايت AN26 3,580,000\n",
      "145 گارد تبلت 1,900,000\n",
      "146 هولدر SH-3100 800,000\n",
      "147 كلگي ORAIMO E81 3,000,000\n",
      "148 سه تار 4,500,000\n",
      "149 گلس پرايوسي weva 2,700,000\n",
      "150 گارد اكليلي جديد 4,620,000\n",
      "151 گارد اسكوييد گيم 4,400,000\n",
      "152 كاور گودزيلا 1,200,000\n",
      "153 كاور سهند 1,200,000\n",
      "154 گارد لوكس paika 11,760,000\n",
      "155 نوكيا 110 12,000,000\n",
      "156 نوكيا 105 4,000,000\n",
      "157 اسپيكر TG 156 3,780,000\n",
      "158 شارژر تبلت 840,000\n",
      "159 كيف پاور بانك چرم 500,000\n",
      "160 اسپيكر DUDAO Y4 4,000,000\n",
      "161 كيف هارد اكسترنال 700,000\n",
      "162 كيف هارد تسكو 700,000\n",
      "163 اسپيكر بلوتوث TG 607 1,890,000\n",
      "164 اسپيكر بلوتوث TG 528 1,890,000\n",
      "165 كله شارژ اورجينال 12POROMAX 20W 39,200,000\n",
      "166 ايرپاد PRO غير اصل 9,000,000\n",
      "167 پاور بانك BOROFONE BT24 MIC 10000 3,500,000\n",
      "168 هندزفري بلوتوث گردني papada A2 3,000,000\n",
      "169 كيف ايرپاد طرح دار 500,000\n",
      "170 شارژر پك پلاستيكي تايپ C 2,000,000\n",
      "171 شارژر پك پلاستيكي اندرويد 600,000\n",
      "172 گلس S21 PLUS 200,000\n",
      "173 گلس S21 ULTRA 300,000\n",
      "174 گوشي سامسونگ A12-128G/RAM4سفيد 42,700,000\n",
      "175 گوشي آيفون IPHONE 13PRO MAX 256G آبي 468,000,000\n",
      "176 گوشي آيفون Iphone 13/128Gآبي 321,000,000\n",
      "177 گوشي آيفون Iphone 11 128G مشكي 226,333,333\n",
      "178 گوشي شيائومي Xiaomi Mi 11lite/128G/R8 72,900,000\n",
      "179 گوشي شيائومي Xiaomi X3 PRO/128G/R8برنز 68,900,000\n",
      "180 گوشي سامسونگ A53/256G/R8مشكي 235,800,000\n",
      "181 nan 6,219,259,293\n"
     ]
    }
   ],
   "source": [
    "for i,item in products.iterrows():\n",
    "    print(i, item[\"name\"],item[\"price\"])"
   ]
  },
  {
   "cell_type": "code",
   "execution_count": 39,
   "metadata": {},
   "outputs": [],
   "source": [
    "# products[\"price1\"] = float(products[\"price\"].replace(\",\",\"\"))\n",
    "products[\"price\"] = products.apply(lambda row: float(row[\"price\"].replace(\",\",\"\")),axis=1)"
   ]
  },
  {
   "cell_type": "code",
   "execution_count": 40,
   "metadata": {},
   "outputs": [
    {
     "data": {
      "text/plain": [
       "name           object\n",
       "price         float64\n",
       "Unnamed: 2    float64\n",
       "dtype: object"
      ]
     },
     "execution_count": 40,
     "metadata": {},
     "output_type": "execute_result"
    }
   ],
   "source": [
    "products.dtypes"
   ]
  },
  {
   "cell_type": "code",
   "execution_count": 41,
   "metadata": {},
   "outputs": [
    {
     "data": {
      "text/html": [
       "<div>\n",
       "<style scoped>\n",
       "    .dataframe tbody tr th:only-of-type {\n",
       "        vertical-align: middle;\n",
       "    }\n",
       "\n",
       "    .dataframe tbody tr th {\n",
       "        vertical-align: top;\n",
       "    }\n",
       "\n",
       "    .dataframe thead th {\n",
       "        text-align: right;\n",
       "    }\n",
       "</style>\n",
       "<table border=\"1\" class=\"dataframe\">\n",
       "  <thead>\n",
       "    <tr style=\"text-align: right;\">\n",
       "      <th></th>\n",
       "      <th>name</th>\n",
       "      <th>price</th>\n",
       "    </tr>\n",
       "  </thead>\n",
       "  <tbody>\n",
       "    <tr>\n",
       "      <th>0</th>\n",
       "      <td>مونوپاد1288</td>\n",
       "      <td>9.000000e+05</td>\n",
       "    </tr>\n",
       "    <tr>\n",
       "      <th>1</th>\n",
       "      <td>شارژر فندكيiohone</td>\n",
       "      <td>5.000000e+05</td>\n",
       "    </tr>\n",
       "    <tr>\n",
       "      <th>2</th>\n",
       "      <td>شارژر فندكي ldnio</td>\n",
       "      <td>6.500000e+05</td>\n",
       "    </tr>\n",
       "    <tr>\n",
       "      <th>3</th>\n",
       "      <td>فندكي آيفون 3</td>\n",
       "      <td>6.000000e+05</td>\n",
       "    </tr>\n",
       "    <tr>\n",
       "      <th>4</th>\n",
       "      <td>گارد</td>\n",
       "      <td>5.400000e+07</td>\n",
       "    </tr>\n",
       "    <tr>\n",
       "      <th>...</th>\n",
       "      <td>...</td>\n",
       "      <td>...</td>\n",
       "    </tr>\n",
       "    <tr>\n",
       "      <th>177</th>\n",
       "      <td>گوشي آيفون Iphone 11 128G مشكي</td>\n",
       "      <td>2.263333e+08</td>\n",
       "    </tr>\n",
       "    <tr>\n",
       "      <th>178</th>\n",
       "      <td>گوشي شيائومي Xiaomi Mi 11lite/128G/R8</td>\n",
       "      <td>7.290000e+07</td>\n",
       "    </tr>\n",
       "    <tr>\n",
       "      <th>179</th>\n",
       "      <td>گوشي شيائومي Xiaomi X3 PRO/128G/R8برنز</td>\n",
       "      <td>6.890000e+07</td>\n",
       "    </tr>\n",
       "    <tr>\n",
       "      <th>180</th>\n",
       "      <td>گوشي سامسونگ A53/256G/R8مشكي</td>\n",
       "      <td>2.358000e+08</td>\n",
       "    </tr>\n",
       "    <tr>\n",
       "      <th>181</th>\n",
       "      <td>NaN</td>\n",
       "      <td>6.219259e+09</td>\n",
       "    </tr>\n",
       "  </tbody>\n",
       "</table>\n",
       "<p>182 rows × 2 columns</p>\n",
       "</div>"
      ],
      "text/plain": [
       "                                       name         price\n",
       "0                               مونوپاد1288  9.000000e+05\n",
       "1                         شارژر فندكيiohone  5.000000e+05\n",
       "2                         شارژر فندكي ldnio  6.500000e+05\n",
       "3                             فندكي آيفون 3  6.000000e+05\n",
       "4                                      گارد  5.400000e+07\n",
       "..                                      ...           ...\n",
       "177          گوشي آيفون Iphone 11 128G مشكي  2.263333e+08\n",
       "178   گوشي شيائومي Xiaomi Mi 11lite/128G/R8  7.290000e+07\n",
       "179  گوشي شيائومي Xiaomi X3 PRO/128G/R8برنز  6.890000e+07\n",
       "180            گوشي سامسونگ A53/256G/R8مشكي  2.358000e+08\n",
       "181                                     NaN  6.219259e+09\n",
       "\n",
       "[182 rows x 2 columns]"
      ]
     },
     "execution_count": 41,
     "metadata": {},
     "output_type": "execute_result"
    }
   ],
   "source": [
    "\n",
    "del products[\"Unnamed: 2\"]\n",
    "products"
   ]
  },
  {
   "cell_type": "code",
   "execution_count": 42,
   "metadata": {},
   "outputs": [],
   "source": [
    "# myexcel = pd.read_excel(\"abc.xlsx\")\n",
    "# myexcel.to_csv(\"abc.csv\")"
   ]
  },
  {
   "cell_type": "code",
   "execution_count": 43,
   "metadata": {},
   "outputs": [],
   "source": [
    "# categories = [] \n"
   ]
  },
  {
   "cell_type": "code",
   "execution_count": 44,
   "metadata": {},
   "outputs": [
    {
     "data": {
      "text/html": [
       "<div>\n",
       "<style scoped>\n",
       "    .dataframe tbody tr th:only-of-type {\n",
       "        vertical-align: middle;\n",
       "    }\n",
       "\n",
       "    .dataframe tbody tr th {\n",
       "        vertical-align: top;\n",
       "    }\n",
       "\n",
       "    .dataframe thead th {\n",
       "        text-align: right;\n",
       "    }\n",
       "</style>\n",
       "<table border=\"1\" class=\"dataframe\">\n",
       "  <thead>\n",
       "    <tr style=\"text-align: right;\">\n",
       "      <th></th>\n",
       "      <th>name</th>\n",
       "      <th>price</th>\n",
       "    </tr>\n",
       "  </thead>\n",
       "  <tbody>\n",
       "    <tr>\n",
       "      <th>0</th>\n",
       "      <td>مونوپاد1288</td>\n",
       "      <td>900000.0</td>\n",
       "    </tr>\n",
       "    <tr>\n",
       "      <th>1</th>\n",
       "      <td>شارژر فندكيiohone</td>\n",
       "      <td>500000.0</td>\n",
       "    </tr>\n",
       "    <tr>\n",
       "      <th>2</th>\n",
       "      <td>شارژر فندكي ldnio</td>\n",
       "      <td>650000.0</td>\n",
       "    </tr>\n",
       "    <tr>\n",
       "      <th>3</th>\n",
       "      <td>فندكي آيفون 3</td>\n",
       "      <td>600000.0</td>\n",
       "    </tr>\n",
       "    <tr>\n",
       "      <th>4</th>\n",
       "      <td>گارد</td>\n",
       "      <td>54000000.0</td>\n",
       "    </tr>\n",
       "  </tbody>\n",
       "</table>\n",
       "</div>"
      ],
      "text/plain": [
       "                name       price\n",
       "0        مونوپاد1288    900000.0\n",
       "1  شارژر فندكيiohone    500000.0\n",
       "2  شارژر فندكي ldnio    650000.0\n",
       "3      فندكي آيفون 3    600000.0\n",
       "4               گارد  54000000.0"
      ]
     },
     "execution_count": 44,
     "metadata": {},
     "output_type": "execute_result"
    }
   ],
   "source": [
    "products.head()"
   ]
  },
  {
   "cell_type": "code",
   "execution_count": 45,
   "metadata": {},
   "outputs": [
    {
     "data": {
      "text/plain": [
       "0      9.000000e+05\n",
       "1      5.000000e+05\n",
       "2      6.500000e+05\n",
       "3      6.000000e+05\n",
       "4      5.400000e+07\n",
       "           ...     \n",
       "177    2.263333e+08\n",
       "178    7.290000e+07\n",
       "179    6.890000e+07\n",
       "180    2.358000e+08\n",
       "181    6.219259e+09\n",
       "Name: price, Length: 182, dtype: float64"
      ]
     },
     "execution_count": 45,
     "metadata": {},
     "output_type": "execute_result"
    }
   ],
   "source": [
    "products[\"price\"].astype(float)"
   ]
  },
  {
   "cell_type": "code",
   "execution_count": 46,
   "metadata": {},
   "outputs": [
    {
     "data": {
      "text/plain": [
       "name      object\n",
       "price    float64\n",
       "dtype: object"
      ]
     },
     "execution_count": 46,
     "metadata": {},
     "output_type": "execute_result"
    }
   ],
   "source": [
    "products.dtypes"
   ]
  },
  {
   "cell_type": "code",
   "execution_count": 47,
   "metadata": {},
   "outputs": [
    {
     "data": {
      "text/plain": [
       "numpy.float64"
      ]
     },
     "execution_count": 47,
     "metadata": {},
     "output_type": "execute_result"
    }
   ],
   "source": [
    "type(products[\"price\"][0])"
   ]
  },
  {
   "cell_type": "code",
   "execution_count": 48,
   "metadata": {},
   "outputs": [],
   "source": [
    "dbsession.bulk_insert_mappings(Products, products.to_dict(orient=\"records\"))\n",
    "dbsession.commit()"
   ]
  },
  {
   "cell_type": "code",
   "execution_count": 49,
   "metadata": {},
   "outputs": [],
   "source": [
    "categories = {\"id\":[1,2,3],\"name\":[\"Mobile Phones\",\"Accessories\",\"Monopods\"]}\n",
    "categories = pd.DataFrame(categories)\n",
    "categories.to_sql(\"categories\",dbsession.connection(),if_exists=\"replace\",index=False)\n",
    "dbsession.commit()"
   ]
  },
  {
   "cell_type": "code",
   "execution_count": 62,
   "metadata": {},
   "outputs": [],
   "source": [
    "nproduct = [Products(name=\"samsung A8\",cat_id=1),Products(name=\"samsung S20\",cat_id=1)]\n",
    "dbsession.add_all(nproduct)\n",
    "dbsession.commit()"
   ]
  },
  {
   "cell_type": "code",
   "execution_count": 63,
   "metadata": {},
   "outputs": [],
   "source": [
    "c = dbsession.query(Categories).first()\n",
    "# pd.read_sql(c.statement, dbsession.connection())"
   ]
  },
  {
   "cell_type": "code",
   "execution_count": 66,
   "metadata": {},
   "outputs": [
    {
     "name": "stdout",
     "output_type": "stream",
     "text": [
      "samsung a8\n",
      "samsung A8\n",
      "samsung S20\n"
     ]
    }
   ],
   "source": [
    "for i in c.products:\n",
    "    print(i.name)"
   ]
  },
  {
   "cell_type": "code",
   "execution_count": null,
   "metadata": {},
   "outputs": [],
   "source": []
  }
 ],
 "metadata": {
  "interpreter": {
   "hash": "6b0033a27a866da95c7b76ad0e068ebca9947a71d63e9fd25a5092b53352d9d0"
  },
  "kernelspec": {
   "display_name": "Python 3.10.1 ('.venv': venv)",
   "language": "python",
   "name": "python3"
  },
  "language_info": {
   "codemirror_mode": {
    "name": "ipython",
    "version": 3
   },
   "file_extension": ".py",
   "mimetype": "text/x-python",
   "name": "python",
   "nbconvert_exporter": "python",
   "pygments_lexer": "ipython3",
   "version": "3.10.1"
  },
  "orig_nbformat": 4
 },
 "nbformat": 4,
 "nbformat_minor": 2
}
