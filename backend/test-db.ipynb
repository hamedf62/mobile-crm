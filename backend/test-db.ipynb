{
 "cells": [
  {
   "cell_type": "code",
   "execution_count": 40,
   "metadata": {},
   "outputs": [],
   "source": [
    "import pandas as pd\n",
    "from classes.dbHandler import DBHandler\n",
    "\n",
    "dbh = DBHandler()\n",
    "dbh.create_all_tables()\n",
    "\n",
    "prd = pd.read_csv(\"data/products.csv\")"
   ]
  },
  {
   "cell_type": "code",
   "execution_count": 41,
   "metadata": {},
   "outputs": [
    {
     "data": {
      "text/plain": [
       "Index(['Unnamed: 0', 'name', 'price'], dtype='object')"
      ]
     },
     "execution_count": 41,
     "metadata": {},
     "output_type": "execute_result"
    }
   ],
   "source": [
    "prd.columns"
   ]
  },
  {
   "cell_type": "code",
   "execution_count": 42,
   "metadata": {},
   "outputs": [],
   "source": [
    "prd = prd[[\"name\",\"price\"]]\n",
    "prd[\"price\"]= prd.apply(lambda row: row.price.replace(\",\",\"\"),axis=1)\n",
    "prd.to_csv(\"data/products.csv\")\n",
    "# prd"
   ]
  },
  {
   "cell_type": "code",
   "execution_count": 43,
   "metadata": {},
   "outputs": [],
   "source": [
    "from db.connection import Session\n",
    "from db.models import *"
   ]
  },
  {
   "cell_type": "code",
   "execution_count": 44,
   "metadata": {},
   "outputs": [],
   "source": [
    "dbsession = Session()\n"
   ]
  },
  {
   "cell_type": "code",
   "execution_count": 45,
   "metadata": {},
   "outputs": [],
   "source": [
    "newproduct = Products(name=\"apple\",price=123)\n",
    "dbsession.add(newproduct)\n",
    "dbsession.commit()"
   ]
  },
  {
   "cell_type": "code",
   "execution_count": 46,
   "metadata": {},
   "outputs": [
    {
     "data": {
      "text/html": [
       "<div>\n",
       "<style scoped>\n",
       "    .dataframe tbody tr th:only-of-type {\n",
       "        vertical-align: middle;\n",
       "    }\n",
       "\n",
       "    .dataframe tbody tr th {\n",
       "        vertical-align: top;\n",
       "    }\n",
       "\n",
       "    .dataframe thead th {\n",
       "        text-align: right;\n",
       "    }\n",
       "</style>\n",
       "<table border=\"1\" class=\"dataframe\">\n",
       "  <thead>\n",
       "    <tr style=\"text-align: right;\">\n",
       "      <th></th>\n",
       "      <th>id</th>\n",
       "      <th>cat_id</th>\n",
       "      <th>name</th>\n",
       "      <th>price</th>\n",
       "    </tr>\n",
       "  </thead>\n",
       "  <tbody>\n",
       "    <tr>\n",
       "      <th>0</th>\n",
       "      <td>1</td>\n",
       "      <td>None</td>\n",
       "      <td>apple</td>\n",
       "      <td>1.230000e+02</td>\n",
       "    </tr>\n",
       "    <tr>\n",
       "      <th>1</th>\n",
       "      <td>2</td>\n",
       "      <td>None</td>\n",
       "      <td>apple</td>\n",
       "      <td>1.230000e+02</td>\n",
       "    </tr>\n",
       "    <tr>\n",
       "      <th>2</th>\n",
       "      <td>3</td>\n",
       "      <td>None</td>\n",
       "      <td>مونوپاد1288</td>\n",
       "      <td>9.000000e+05</td>\n",
       "    </tr>\n",
       "    <tr>\n",
       "      <th>3</th>\n",
       "      <td>4</td>\n",
       "      <td>None</td>\n",
       "      <td>شارژر فندكيiohone</td>\n",
       "      <td>5.000000e+05</td>\n",
       "    </tr>\n",
       "    <tr>\n",
       "      <th>4</th>\n",
       "      <td>5</td>\n",
       "      <td>None</td>\n",
       "      <td>شارژر فندكي ldnio</td>\n",
       "      <td>6.500000e+05</td>\n",
       "    </tr>\n",
       "    <tr>\n",
       "      <th>...</th>\n",
       "      <td>...</td>\n",
       "      <td>...</td>\n",
       "      <td>...</td>\n",
       "      <td>...</td>\n",
       "    </tr>\n",
       "    <tr>\n",
       "      <th>180</th>\n",
       "      <td>181</td>\n",
       "      <td>None</td>\n",
       "      <td>گوشي شيائومي Xiaomi Mi 11lite/128G/R8</td>\n",
       "      <td>7.290000e+07</td>\n",
       "    </tr>\n",
       "    <tr>\n",
       "      <th>181</th>\n",
       "      <td>182</td>\n",
       "      <td>None</td>\n",
       "      <td>گوشي شيائومي Xiaomi X3 PRO/128G/R8برنز</td>\n",
       "      <td>6.890000e+07</td>\n",
       "    </tr>\n",
       "    <tr>\n",
       "      <th>182</th>\n",
       "      <td>183</td>\n",
       "      <td>None</td>\n",
       "      <td>گوشي سامسونگ A53/256G/R8مشكي</td>\n",
       "      <td>2.358000e+08</td>\n",
       "    </tr>\n",
       "    <tr>\n",
       "      <th>183</th>\n",
       "      <td>184</td>\n",
       "      <td>None</td>\n",
       "      <td>None</td>\n",
       "      <td>6.219259e+09</td>\n",
       "    </tr>\n",
       "    <tr>\n",
       "      <th>184</th>\n",
       "      <td>185</td>\n",
       "      <td>None</td>\n",
       "      <td>apple</td>\n",
       "      <td>1.230000e+02</td>\n",
       "    </tr>\n",
       "  </tbody>\n",
       "</table>\n",
       "<p>185 rows × 4 columns</p>\n",
       "</div>"
      ],
      "text/plain": [
       "      id cat_id                                    name         price\n",
       "0      1   None                                   apple  1.230000e+02\n",
       "1      2   None                                   apple  1.230000e+02\n",
       "2      3   None                             مونوپاد1288  9.000000e+05\n",
       "3      4   None                       شارژر فندكيiohone  5.000000e+05\n",
       "4      5   None                       شارژر فندكي ldnio  6.500000e+05\n",
       "..   ...    ...                                     ...           ...\n",
       "180  181   None   گوشي شيائومي Xiaomi Mi 11lite/128G/R8  7.290000e+07\n",
       "181  182   None  گوشي شيائومي Xiaomi X3 PRO/128G/R8برنز  6.890000e+07\n",
       "182  183   None            گوشي سامسونگ A53/256G/R8مشكي  2.358000e+08\n",
       "183  184   None                                    None  6.219259e+09\n",
       "184  185   None                                   apple  1.230000e+02\n",
       "\n",
       "[185 rows x 4 columns]"
      ]
     },
     "execution_count": 46,
     "metadata": {},
     "output_type": "execute_result"
    }
   ],
   "source": [
    "q = dbsession.query(Products)\n",
    "pd.read_sql(q.statement, dbsession.connection())"
   ]
  },
  {
   "cell_type": "code",
   "execution_count": 47,
   "metadata": {},
   "outputs": [],
   "source": [
    "dbh.addProducts(prd)\n",
    "dbh.dbsession.commit()"
   ]
  },
  {
   "cell_type": "code",
   "execution_count": null,
   "metadata": {},
   "outputs": [],
   "source": []
  },
  {
   "cell_type": "code",
   "execution_count": null,
   "metadata": {},
   "outputs": [],
   "source": []
  }
 ],
 "metadata": {
  "kernelspec": {
   "display_name": "Python 3.10.1 ('.venv': venv)",
   "language": "python",
   "name": "python3"
  },
  "language_info": {
   "codemirror_mode": {
    "name": "ipython",
    "version": 3
   },
   "file_extension": ".py",
   "mimetype": "text/x-python",
   "name": "python",
   "nbconvert_exporter": "python",
   "pygments_lexer": "ipython3",
   "version": "3.10.1"
  },
  "orig_nbformat": 4,
  "vscode": {
   "interpreter": {
    "hash": "6b0033a27a866da95c7b76ad0e068ebca9947a71d63e9fd25a5092b53352d9d0"
   }
  }
 },
 "nbformat": 4,
 "nbformat_minor": 2
}
