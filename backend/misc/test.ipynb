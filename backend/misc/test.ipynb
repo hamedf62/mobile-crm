{
 "cells": [
  {
   "cell_type": "code",
   "execution_count": 44,
   "metadata": {},
   "outputs": [],
   "source": [
    "from models import Categories, Customers, Invoices, Products\n",
    "from connection import dbsession\n",
    "import pandas as pd\n",
    "\n",
    "dbsession.rollback()\n",
    "newCategories =[Categories(name=\"Smart phones\"),Categories(name=\"Headsets\"), Categories(name=\"Battery Chargers\")]\n",
    "\n",
    "newCustomer= Customers(fname=\"majid\", lname=\"Fallah\", mobile=\"09120000006\", email=\"kianakiazad74@gamil.com\", password=\"1234\", ncode=10, address=\"yazd,razmandegan ...\")\n",
    "\n",
    "# newProducts= [Products(name=\"iphone\", price=22.5), Products(name=\"samsung\", price=15.5)]\n",
    "\n",
    "\n",
    "\n",
    "dbsession.add_all(newCategories)\n",
    "dbsession.add(newCustomer)\n",
    "# dbsession.add_all(newProducts)\n",
    "\n",
    "\n",
    "\n",
    "# dbsession.commit()"
   ]
  },
  {
   "cell_type": "code",
   "execution_count": 45,
   "metadata": {},
   "outputs": [],
   "source": [
    "# print(\"before:\",newCustomer.id)\n",
    "# dbsession.flush()\n",
    "# print(\"after:\",newCustomer.id)\n",
    "# dbsession.commit()\n"
   ]
  },
  {
   "cell_type": "code",
   "execution_count": 46,
   "metadata": {},
   "outputs": [],
   "source": [
    "# try:\n",
    "#     dbsession.flush()\n",
    "# except Exception as e:\n",
    "#     print(e)\n",
    "    \n",
    "#     dbsession.rollback()\n",
    "#     print(\"inja....\")\n",
    "# else:\n",
    "#     dbsession.commit()\n",
    "#     print(\"all done\")"
   ]
  },
  {
   "cell_type": "code",
   "execution_count": 47,
   "metadata": {},
   "outputs": [
    {
     "data": {
      "text/html": [
       "<div>\n",
       "<style scoped>\n",
       "    .dataframe tbody tr th:only-of-type {\n",
       "        vertical-align: middle;\n",
       "    }\n",
       "\n",
       "    .dataframe tbody tr th {\n",
       "        vertical-align: top;\n",
       "    }\n",
       "\n",
       "    .dataframe thead th {\n",
       "        text-align: right;\n",
       "    }\n",
       "</style>\n",
       "<table border=\"1\" class=\"dataframe\">\n",
       "  <thead>\n",
       "    <tr style=\"text-align: right;\">\n",
       "      <th></th>\n",
       "      <th>id</th>\n",
       "      <th>fname</th>\n",
       "      <th>lname</th>\n",
       "      <th>mobile</th>\n",
       "      <th>email</th>\n",
       "      <th>password</th>\n",
       "      <th>ncode</th>\n",
       "      <th>address</th>\n",
       "    </tr>\n",
       "  </thead>\n",
       "  <tbody>\n",
       "  </tbody>\n",
       "</table>\n",
       "</div>"
      ],
      "text/plain": [
       "Empty DataFrame\n",
       "Columns: [id, fname, lname, mobile, email, password, ncode, address]\n",
       "Index: []"
      ]
     },
     "execution_count": 47,
     "metadata": {},
     "output_type": "execute_result"
    }
   ],
   "source": [
    "# dbsession.flush()\n",
    "customers = dbsession.query(Customers)\n",
    "# .all()\n",
    "\n",
    "# for cust in customers:\n",
    "#     print(cust.fname)\n",
    "pd.read_sql(customers.statement,dbsession.connection())\n"
   ]
  },
  {
   "cell_type": "code",
   "execution_count": null,
   "metadata": {},
   "outputs": [],
   "source": []
  }
 ],
 "metadata": {
  "interpreter": {
   "hash": "6b0033a27a866da95c7b76ad0e068ebca9947a71d63e9fd25a5092b53352d9d0"
  },
  "kernelspec": {
   "display_name": "Python 3.10.1 ('.venv': venv)",
   "language": "python",
   "name": "python3"
  },
  "language_info": {
   "codemirror_mode": {
    "name": "ipython",
    "version": 3
   },
   "file_extension": ".py",
   "mimetype": "text/x-python",
   "name": "python",
   "nbconvert_exporter": "python",
   "pygments_lexer": "ipython3",
   "version": "3.10.1"
  },
  "orig_nbformat": 4
 },
 "nbformat": 4,
 "nbformat_minor": 2
}
