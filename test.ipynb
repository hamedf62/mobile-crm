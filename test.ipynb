{
 "cells": [
  {
   "cell_type": "code",
   "execution_count": 19,
   "metadata": {},
   "outputs": [],
   "source": [
    "from models import Categories, Customers, Invoices, Products\n",
    "from connection import dbsession\n",
    "\n",
    "\n",
    "newCategories =[Categories(name=\"Smart phones\"),Categories(name=\"Headsets\"), Categories(name=\"Battery Chargers\")]\n",
    "\n",
    "newCustomer= Customers(fname=\"kiana\", lname=\"kiazad\", mobile=\"09120000006\", email=\"kianakiazad74@gamil.com\", password=\"1234\", ncode=10, address=\"yazd,razmandegan ...\")\n",
    "\n",
    "# newProducts= [Products(name=\"iphone\", price=22.5), Products(name=\"samsung\", price=15.5)]\n",
    "\n",
    "\n",
    "\n",
    "dbsession.add_all(newCategories)\n",
    "dbsession.add(newCustomer)\n",
    "# dbsession.add_all(newProducts)\n",
    "\n",
    "\n",
    "\n",
    "# dbsession.commit()"
   ]
  },
  {
   "cell_type": "code",
   "execution_count": 20,
   "metadata": {},
   "outputs": [],
   "source": [
    "# print(\"before:\",newCustomer.id)\n",
    "# dbsession.flush()\n",
    "# print(\"after:\",newCustomer.id)\n",
    "# dbsession.commit()\n"
   ]
  },
  {
   "cell_type": "code",
   "execution_count": 21,
   "metadata": {},
   "outputs": [
    {
     "name": "stdout",
     "output_type": "stream",
     "text": [
      "all done\n"
     ]
    }
   ],
   "source": [
    "try:\n",
    "    dbsession.flush()\n",
    "except Exception as e:\n",
    "    print(e)\n",
    "    \n",
    "    dbsession.rollback()\n",
    "    print(\"inja....\")\n",
    "else:\n",
    "    dbsession.commit()\n",
    "    print(\"all done\")"
   ]
  },
  {
   "cell_type": "code",
   "execution_count": 22,
   "metadata": {},
   "outputs": [
    {
     "data": {
      "text/plain": [
       "[<models.Customers at 0x103b82fb0>,\n",
       " <models.Customers at 0x104397070>,\n",
       " <models.Customers at 0x104397a30>,\n",
       " <models.Customers at 0x104fc3070>,\n",
       " <models.Customers at 0x116df6050>]"
      ]
     },
     "execution_count": 22,
     "metadata": {},
     "output_type": "execute_result"
    }
   ],
   "source": [
    "customers = dbsession.query(Customers).all()\n",
    "\n",
    "customers\n"
   ]
  },
  {
   "cell_type": "code",
   "execution_count": 23,
   "metadata": {},
   "outputs": [
    {
     "name": "stdout",
     "output_type": "stream",
     "text": [
      "09120000000 kiana 1\n",
      "09120000001 kiana 2\n",
      "09120000002 kiana 3\n",
      "09120000005 kiana 4\n",
      "09120000006 kiana 5\n"
     ]
    }
   ],
   "source": [
    "for customer in customers:\n",
    "    print(customer.mobile, customer.fname, customer.id)"
   ]
  },
  {
   "cell_type": "code",
   "execution_count": 24,
   "metadata": {},
   "outputs": [
    {
     "data": {
      "text/html": [
       "<div>\n",
       "<style scoped>\n",
       "    .dataframe tbody tr th:only-of-type {\n",
       "        vertical-align: middle;\n",
       "    }\n",
       "\n",
       "    .dataframe tbody tr th {\n",
       "        vertical-align: top;\n",
       "    }\n",
       "\n",
       "    .dataframe thead th {\n",
       "        text-align: right;\n",
       "    }\n",
       "</style>\n",
       "<table border=\"1\" class=\"dataframe\">\n",
       "  <thead>\n",
       "    <tr style=\"text-align: right;\">\n",
       "      <th></th>\n",
       "      <th>id</th>\n",
       "      <th>fname</th>\n",
       "      <th>lname</th>\n",
       "      <th>mobile</th>\n",
       "      <th>email</th>\n",
       "      <th>password</th>\n",
       "      <th>ncode</th>\n",
       "      <th>address</th>\n",
       "    </tr>\n",
       "  </thead>\n",
       "  <tbody>\n",
       "    <tr>\n",
       "      <th>0</th>\n",
       "      <td>1</td>\n",
       "      <td>kiana</td>\n",
       "      <td>kiazad</td>\n",
       "      <td>09120000000</td>\n",
       "      <td>kianakiazad74@gamil.com</td>\n",
       "      <td>1234</td>\n",
       "      <td>10</td>\n",
       "      <td>yazd,razmandegan ...</td>\n",
       "    </tr>\n",
       "    <tr>\n",
       "      <th>1</th>\n",
       "      <td>2</td>\n",
       "      <td>kiana</td>\n",
       "      <td>kiazad</td>\n",
       "      <td>09120000001</td>\n",
       "      <td>kianakiazad74@gamil.com</td>\n",
       "      <td>1234</td>\n",
       "      <td>10</td>\n",
       "      <td>yazd,razmandegan ...</td>\n",
       "    </tr>\n",
       "    <tr>\n",
       "      <th>2</th>\n",
       "      <td>3</td>\n",
       "      <td>kiana</td>\n",
       "      <td>kiazad</td>\n",
       "      <td>09120000002</td>\n",
       "      <td>kianakiazad74@gamil.com</td>\n",
       "      <td>1234</td>\n",
       "      <td>10</td>\n",
       "      <td>yazd,razmandegan ...</td>\n",
       "    </tr>\n",
       "    <tr>\n",
       "      <th>3</th>\n",
       "      <td>4</td>\n",
       "      <td>kiana</td>\n",
       "      <td>kiazad</td>\n",
       "      <td>09120000005</td>\n",
       "      <td>kianakiazad74@gamil.com</td>\n",
       "      <td>1234</td>\n",
       "      <td>10</td>\n",
       "      <td>yazd,razmandegan ...</td>\n",
       "    </tr>\n",
       "    <tr>\n",
       "      <th>4</th>\n",
       "      <td>5</td>\n",
       "      <td>kiana</td>\n",
       "      <td>kiazad</td>\n",
       "      <td>09120000006</td>\n",
       "      <td>kianakiazad74@gamil.com</td>\n",
       "      <td>1234</td>\n",
       "      <td>10</td>\n",
       "      <td>yazd,razmandegan ...</td>\n",
       "    </tr>\n",
       "  </tbody>\n",
       "</table>\n",
       "</div>"
      ],
      "text/plain": [
       "   id  fname   lname       mobile                    email password  ncode  \\\n",
       "0   1  kiana  kiazad  09120000000  kianakiazad74@gamil.com     1234     10   \n",
       "1   2  kiana  kiazad  09120000001  kianakiazad74@gamil.com     1234     10   \n",
       "2   3  kiana  kiazad  09120000002  kianakiazad74@gamil.com     1234     10   \n",
       "3   4  kiana  kiazad  09120000005  kianakiazad74@gamil.com     1234     10   \n",
       "4   5  kiana  kiazad  09120000006  kianakiazad74@gamil.com     1234     10   \n",
       "\n",
       "                address  \n",
       "0  yazd,razmandegan ...  \n",
       "1  yazd,razmandegan ...  \n",
       "2  yazd,razmandegan ...  \n",
       "3  yazd,razmandegan ...  \n",
       "4  yazd,razmandegan ...  "
      ]
     },
     "execution_count": 24,
     "metadata": {},
     "output_type": "execute_result"
    }
   ],
   "source": [
    "import pandas as pd\n",
    "customers = dbsession.query(Customers)\n",
    "# print(customers.statement)\n",
    "\n",
    "\n",
    "a = pd.read_sql(customers.statement, dbsession.connection())\n",
    "a"
   ]
  },
  {
   "cell_type": "code",
   "execution_count": 25,
   "metadata": {},
   "outputs": [
    {
     "data": {
      "text/html": [
       "<div>\n",
       "<style scoped>\n",
       "    .dataframe tbody tr th:only-of-type {\n",
       "        vertical-align: middle;\n",
       "    }\n",
       "\n",
       "    .dataframe tbody tr th {\n",
       "        vertical-align: top;\n",
       "    }\n",
       "\n",
       "    .dataframe thead th {\n",
       "        text-align: right;\n",
       "    }\n",
       "</style>\n",
       "<table border=\"1\" class=\"dataframe\">\n",
       "  <thead>\n",
       "    <tr style=\"text-align: right;\">\n",
       "      <th></th>\n",
       "      <th>id</th>\n",
       "      <th>fname</th>\n",
       "      <th>lname</th>\n",
       "      <th>mobile</th>\n",
       "      <th>email</th>\n",
       "      <th>password</th>\n",
       "      <th>ncode</th>\n",
       "      <th>address</th>\n",
       "    </tr>\n",
       "  </thead>\n",
       "  <tbody>\n",
       "    <tr>\n",
       "      <th>2</th>\n",
       "      <td>3</td>\n",
       "      <td>kiana</td>\n",
       "      <td>kiazad</td>\n",
       "      <td>09120000002</td>\n",
       "      <td>kianakiazad74@gamil.com</td>\n",
       "      <td>1234</td>\n",
       "      <td>10</td>\n",
       "      <td>yazd,razmandegan ...</td>\n",
       "    </tr>\n",
       "  </tbody>\n",
       "</table>\n",
       "</div>"
      ],
      "text/plain": [
       "   id  fname   lname       mobile                    email password  ncode  \\\n",
       "2   3  kiana  kiazad  09120000002  kianakiazad74@gamil.com     1234     10   \n",
       "\n",
       "                address  \n",
       "2  yazd,razmandegan ...  "
      ]
     },
     "execution_count": 25,
     "metadata": {},
     "output_type": "execute_result"
    }
   ],
   "source": [
    "a[a.mobile==\"09120000002\"]"
   ]
  },
  {
   "cell_type": "code",
   "execution_count": 26,
   "metadata": {},
   "outputs": [
    {
     "data": {
      "text/html": [
       "<div>\n",
       "<style scoped>\n",
       "    .dataframe tbody tr th:only-of-type {\n",
       "        vertical-align: middle;\n",
       "    }\n",
       "\n",
       "    .dataframe tbody tr th {\n",
       "        vertical-align: top;\n",
       "    }\n",
       "\n",
       "    .dataframe thead th {\n",
       "        text-align: right;\n",
       "    }\n",
       "</style>\n",
       "<table border=\"1\" class=\"dataframe\">\n",
       "  <thead>\n",
       "    <tr style=\"text-align: right;\">\n",
       "      <th></th>\n",
       "      <th>id</th>\n",
       "      <th>fname</th>\n",
       "      <th>lname</th>\n",
       "      <th>mobile</th>\n",
       "      <th>email</th>\n",
       "      <th>password</th>\n",
       "      <th>ncode</th>\n",
       "      <th>address</th>\n",
       "    </tr>\n",
       "  </thead>\n",
       "  <tbody>\n",
       "    <tr>\n",
       "      <th>0</th>\n",
       "      <td>1</td>\n",
       "      <td>kiana</td>\n",
       "      <td>kiazad</td>\n",
       "      <td>09120000000</td>\n",
       "      <td>kianakiazad74@gamil.com</td>\n",
       "      <td>1234</td>\n",
       "      <td>10</td>\n",
       "      <td>yazd,razmandegan ...</td>\n",
       "    </tr>\n",
       "    <tr>\n",
       "      <th>1</th>\n",
       "      <td>2</td>\n",
       "      <td>kiana</td>\n",
       "      <td>kiazad</td>\n",
       "      <td>09120000001</td>\n",
       "      <td>kianakiazad74@gamil.com</td>\n",
       "      <td>1234</td>\n",
       "      <td>10</td>\n",
       "      <td>yazd,razmandegan ...</td>\n",
       "    </tr>\n",
       "    <tr>\n",
       "      <th>2</th>\n",
       "      <td>3</td>\n",
       "      <td>kiana</td>\n",
       "      <td>kiazad</td>\n",
       "      <td>09120000002</td>\n",
       "      <td>kianakiazad74@gamil.com</td>\n",
       "      <td>1234</td>\n",
       "      <td>10</td>\n",
       "      <td>yazd,razmandegan ...</td>\n",
       "    </tr>\n",
       "    <tr>\n",
       "      <th>3</th>\n",
       "      <td>4</td>\n",
       "      <td>kiana</td>\n",
       "      <td>kiazad</td>\n",
       "      <td>09120000005</td>\n",
       "      <td>kianakiazad74@gamil.com</td>\n",
       "      <td>1234</td>\n",
       "      <td>10</td>\n",
       "      <td>yazd,razmandegan ...</td>\n",
       "    </tr>\n",
       "    <tr>\n",
       "      <th>4</th>\n",
       "      <td>5</td>\n",
       "      <td>kiana</td>\n",
       "      <td>kiazad</td>\n",
       "      <td>09120000006</td>\n",
       "      <td>kianakiazad74@gamil.com</td>\n",
       "      <td>1234</td>\n",
       "      <td>10</td>\n",
       "      <td>yazd,razmandegan ...</td>\n",
       "    </tr>\n",
       "  </tbody>\n",
       "</table>\n",
       "</div>"
      ],
      "text/plain": [
       "   id  fname   lname       mobile                    email password  ncode  \\\n",
       "0   1  kiana  kiazad  09120000000  kianakiazad74@gamil.com     1234     10   \n",
       "1   2  kiana  kiazad  09120000001  kianakiazad74@gamil.com     1234     10   \n",
       "2   3  kiana  kiazad  09120000002  kianakiazad74@gamil.com     1234     10   \n",
       "3   4  kiana  kiazad  09120000005  kianakiazad74@gamil.com     1234     10   \n",
       "4   5  kiana  kiazad  09120000006  kianakiazad74@gamil.com     1234     10   \n",
       "\n",
       "                address  \n",
       "0  yazd,razmandegan ...  \n",
       "1  yazd,razmandegan ...  \n",
       "2  yazd,razmandegan ...  \n",
       "3  yazd,razmandegan ...  \n",
       "4  yazd,razmandegan ...  "
      ]
     },
     "execution_count": 26,
     "metadata": {},
     "output_type": "execute_result"
    }
   ],
   "source": [
    "a"
   ]
  },
  {
   "cell_type": "code",
   "execution_count": 28,
   "metadata": {},
   "outputs": [
    {
     "data": {
      "text/html": [
       "<div>\n",
       "<style scoped>\n",
       "    .dataframe tbody tr th:only-of-type {\n",
       "        vertical-align: middle;\n",
       "    }\n",
       "\n",
       "    .dataframe tbody tr th {\n",
       "        vertical-align: top;\n",
       "    }\n",
       "\n",
       "    .dataframe thead th {\n",
       "        text-align: right;\n",
       "    }\n",
       "</style>\n",
       "<table border=\"1\" class=\"dataframe\">\n",
       "  <thead>\n",
       "    <tr style=\"text-align: right;\">\n",
       "      <th></th>\n",
       "      <th>id</th>\n",
       "      <th>name</th>\n",
       "    </tr>\n",
       "  </thead>\n",
       "  <tbody>\n",
       "    <tr>\n",
       "      <th>0</th>\n",
       "      <td>2</td>\n",
       "      <td>Headsets</td>\n",
       "    </tr>\n",
       "    <tr>\n",
       "      <th>1</th>\n",
       "      <td>3</td>\n",
       "      <td>Battery Chargers</td>\n",
       "    </tr>\n",
       "  </tbody>\n",
       "</table>\n",
       "</div>"
      ],
      "text/plain": [
       "   id              name\n",
       "0   2          Headsets\n",
       "1   3  Battery Chargers"
      ]
     },
     "execution_count": 28,
     "metadata": {},
     "output_type": "execute_result"
    }
   ],
   "source": [
    "categories = dbsession.query(Categories).filter(Categories.id>=2)\n",
    "\n",
    "pd.read_sql(categories.statement, dbsession.connection())"
   ]
  },
  {
   "cell_type": "code",
   "execution_count": null,
   "metadata": {},
   "outputs": [],
   "source": []
  }
 ],
 "metadata": {
  "interpreter": {
   "hash": "6b0033a27a866da95c7b76ad0e068ebca9947a71d63e9fd25a5092b53352d9d0"
  },
  "kernelspec": {
   "display_name": "Python 3.10.1 ('.venv': venv)",
   "language": "python",
   "name": "python3"
  },
  "language_info": {
   "codemirror_mode": {
    "name": "ipython",
    "version": 3
   },
   "file_extension": ".py",
   "mimetype": "text/x-python",
   "name": "python",
   "nbconvert_exporter": "python",
   "pygments_lexer": "ipython3",
   "version": "3.10.1"
  },
  "orig_nbformat": 4
 },
 "nbformat": 4,
 "nbformat_minor": 2
}
